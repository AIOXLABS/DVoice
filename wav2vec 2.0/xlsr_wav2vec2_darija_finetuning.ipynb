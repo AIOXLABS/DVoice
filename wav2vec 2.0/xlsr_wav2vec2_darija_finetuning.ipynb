{
 "cells": [
  {
   "cell_type": "markdown",
   "metadata": {},
   "source": [
    "# 1. Bibiliothèques et chargement des données"
   ]
  },
  {
   "cell_type": "code",
   "execution_count": 3,
   "metadata": {
    "execution": {
     "iopub.execute_input": "2021-09-05T10:11:06.326774Z",
     "iopub.status.busy": "2021-09-05T10:11:06.326414Z",
     "iopub.status.idle": "2021-09-05T10:11:44.460435Z",
     "shell.execute_reply": "2021-09-05T10:11:44.459405Z",
     "shell.execute_reply.started": "2021-09-05T10:11:06.326742Z"
    }
   },
   "outputs": [],
   "source": [
    "%%capture\n",
    "!pip install datasets==1.4.1\n",
    "!pip install transformers==4.4.0\n",
    "!pip install torchaudio\n",
    "!pip install librosa\n",
    "!pip install jiwer"
   ]
  },
  {
   "cell_type": "code",
   "execution_count": 5,
   "metadata": {
    "execution": {
     "iopub.execute_input": "2021-09-05T10:11:44.464535Z",
     "iopub.status.busy": "2021-09-05T10:11:44.464259Z",
     "iopub.status.idle": "2021-09-05T10:11:51.503575Z",
     "shell.execute_reply": "2021-09-05T10:11:51.502719Z",
     "shell.execute_reply.started": "2021-09-05T10:11:44.464507Z"
    }
   },
   "outputs": [],
   "source": [
    "import os\n",
    "import pickle\n",
    "import random\n",
    "import librosa\n",
    "import numpy as np\n",
    "import pandas as pd\n",
    "import IPython.display as ipd\n",
    "from datasets import ClassLabel, load_dataset, load_metric\n",
    "from sklearn.model_selection import train_test_split\n",
    "from IPython.display import Audio, Javascript, display, HTML, Image\n",
    "from transformers import Wav2Vec2CTCTokenizer, Wav2Vec2ForCTC, Wav2Vec2Processor, TrainingArguments, Wav2Vec2FeatureExtractor"
   ]
  },
  {
   "cell_type": "code",
   "execution_count": null,
   "metadata": {
    "execution": {
     "iopub.execute_input": "2021-09-05T10:13:38.056873Z",
     "iopub.status.busy": "2021-09-05T10:13:38.056523Z",
     "iopub.status.idle": "2021-09-05T10:13:38.808807Z",
     "shell.execute_reply": "2021-09-05T10:13:38.807975Z",
     "shell.execute_reply.started": "2021-09-05T10:13:38.056843Z"
    }
   },
   "outputs": [],
   "source": [
    "train = load_dataset('csv', data_files='dvoice-v1.0/transcriptions/train.csv')\n",
    "test = load_dataset('csv', data_files='dvoice-v1.0/transcriptions/test.csv')\n",
    "\n",
    "dvoice_train = train['train']\n",
    "dvoice_test = test['train']"
   ]
  },
  {
   "cell_type": "markdown",
   "metadata": {},
   "source": [
    "# 2. Préparation des données"
   ]
  },
  {
   "cell_type": "markdown",
   "metadata": {},
   "source": [
    "## 2.1. Creation du Tokenizer"
   ]
  },
  {
   "cell_type": "code",
   "execution_count": null,
   "metadata": {
    "execution": {
     "iopub.execute_input": "2021-09-05T10:14:30.441599Z",
     "iopub.status.busy": "2021-09-05T10:14:30.441251Z",
     "iopub.status.idle": "2021-09-05T10:14:30.456532Z",
     "shell.execute_reply": "2021-09-05T10:14:30.455536Z",
     "shell.execute_reply.started": "2021-09-05T10:14:30.441567Z"
    }
   },
   "outputs": [],
   "source": [
    "def show_random_elements(dataset, num_examples=5):\n",
    "    assert num_examples <= len(dataset)\n",
    "    picks = []\n",
    "    for _ in range(num_examples):\n",
    "        pick = random.randint(0, len(dataset)-1)\n",
    "        while pick in picks:\n",
    "            pick = random.randint(0, len(dataset)-1)\n",
    "        picks.append(pick)\n",
    "    \n",
    "    df = pd.DataFrame(dataset[picks])\n",
    "    display(HTML(df.to_html()))\n",
    "\n",
    "show_random_elements(dvoice_train.remove_columns([\"path\"]), num_examples=5)"
   ]
  },
  {
   "cell_type": "code",
   "execution_count": null,
   "metadata": {
    "execution": {
     "iopub.execute_input": "2021-09-05T10:14:43.977363Z",
     "iopub.status.busy": "2021-09-05T10:14:43.977027Z",
     "iopub.status.idle": "2021-09-05T10:14:43.983462Z",
     "shell.execute_reply": "2021-09-05T10:14:43.982379Z",
     "shell.execute_reply.started": "2021-09-05T10:14:43.977332Z"
    }
   },
   "outputs": [],
   "source": [
    "import re\n",
    "chars_to_ignore_regex = '[\\,\\?\\.\\!\\-\\;\\:\\\"\\“\\%\\‘\\”\\�]'\n",
    "\n",
    "def remove_special_characters(batch):\n",
    "    batch[\"transcript\"] = re.sub(chars_to_ignore_regex, '', batch[\"transcript\"]).lower() + \" \"\n",
    "    return batch"
   ]
  },
  {
   "cell_type": "code",
   "execution_count": null,
   "metadata": {
    "execution": {
     "iopub.execute_input": "2021-09-05T10:14:56.69753Z",
     "iopub.status.busy": "2021-09-05T10:14:56.697177Z",
     "iopub.status.idle": "2021-09-05T10:14:57.278413Z",
     "shell.execute_reply": "2021-09-05T10:14:57.277459Z",
     "shell.execute_reply.started": "2021-09-05T10:14:56.697477Z"
    }
   },
   "outputs": [],
   "source": [
    "dvoice_train = dvoice_train.map(remove_special_characters)\n",
    "dvoice_test = dvoice_test.map(remove_special_characters)"
   ]
  },
  {
   "cell_type": "code",
   "execution_count": null,
   "metadata": {
    "execution": {
     "iopub.execute_input": "2021-09-05T10:15:10.911808Z",
     "iopub.status.busy": "2021-09-05T10:15:10.911432Z",
     "iopub.status.idle": "2021-09-05T10:15:10.92247Z",
     "shell.execute_reply": "2021-09-05T10:15:10.92142Z",
     "shell.execute_reply.started": "2021-09-05T10:15:10.911779Z"
    }
   },
   "outputs": [],
   "source": [
    "show_random_elements(dvoice_train.remove_columns([\"path\"]))"
   ]
  },
  {
   "cell_type": "code",
   "execution_count": null,
   "metadata": {
    "execution": {
     "iopub.execute_input": "2021-09-05T10:15:22.641609Z",
     "iopub.status.busy": "2021-09-05T10:15:22.641254Z",
     "iopub.status.idle": "2021-09-05T10:15:22.646516Z",
     "shell.execute_reply": "2021-09-05T10:15:22.645377Z",
     "shell.execute_reply.started": "2021-09-05T10:15:22.641577Z"
    }
   },
   "outputs": [],
   "source": [
    "def extract_all_chars(batch):\n",
    "  all_text = \" \".join(batch[\"transcript\"])\n",
    "  vocab = list(set(all_text))\n",
    "  return {\"vocab\": [vocab], \"all_text\": [all_text]}"
   ]
  },
  {
   "cell_type": "code",
   "execution_count": null,
   "metadata": {
    "execution": {
     "iopub.execute_input": "2021-09-05T10:15:38.687472Z",
     "iopub.status.busy": "2021-09-05T10:15:38.687097Z",
     "iopub.status.idle": "2021-09-05T10:15:38.819941Z",
     "shell.execute_reply": "2021-09-05T10:15:38.819006Z",
     "shell.execute_reply.started": "2021-09-05T10:15:38.687439Z"
    }
   },
   "outputs": [],
   "source": [
    "vocab_train = dvoice_train.map(extract_all_chars, batched=True, batch_size=-1, keep_in_memory=True, remove_columns=dvoice_train.column_names)\n",
    "vocab_test = dvoice_test.map(extract_all_chars, batched=True, batch_size=-1, keep_in_memory=True, remove_columns=dvoice_test.column_names)"
   ]
  },
  {
   "cell_type": "code",
   "execution_count": null,
   "metadata": {
    "execution": {
     "iopub.execute_input": "2021-09-05T10:15:51.746666Z",
     "iopub.status.busy": "2021-09-05T10:15:51.746285Z",
     "iopub.status.idle": "2021-09-05T10:15:51.751892Z",
     "shell.execute_reply": "2021-09-05T10:15:51.750897Z",
     "shell.execute_reply.started": "2021-09-05T10:15:51.746633Z"
    }
   },
   "outputs": [],
   "source": [
    "vocab_list = list(set(vocab_train[\"vocab\"][0]) | set(vocab_test[\"vocab\"][0]))"
   ]
  },
  {
   "cell_type": "code",
   "execution_count": null,
   "metadata": {
    "execution": {
     "iopub.execute_input": "2021-09-05T10:16:09.452448Z",
     "iopub.status.busy": "2021-09-05T10:16:09.452127Z",
     "iopub.status.idle": "2021-09-05T10:16:09.456479Z",
     "shell.execute_reply": "2021-09-05T10:16:09.455558Z",
     "shell.execute_reply.started": "2021-09-05T10:16:09.452416Z"
    }
   },
   "outputs": [],
   "source": [
    "vocab_dict = {v: k for k, v in enumerate(vocab_list)}\n",
    "# vocab_dict"
   ]
  },
  {
   "cell_type": "code",
   "execution_count": null,
   "metadata": {
    "execution": {
     "iopub.execute_input": "2021-09-05T10:16:22.101472Z",
     "iopub.status.busy": "2021-09-05T10:16:22.101155Z",
     "iopub.status.idle": "2021-09-05T10:16:22.10625Z",
     "shell.execute_reply": "2021-09-05T10:16:22.104442Z",
     "shell.execute_reply.started": "2021-09-05T10:16:22.101443Z"
    }
   },
   "outputs": [],
   "source": [
    "vocab_dict[\"|\"] = vocab_dict[\" \"]\n",
    "del vocab_dict[\" \"]"
   ]
  },
  {
   "cell_type": "code",
   "execution_count": null,
   "metadata": {
    "execution": {
     "iopub.execute_input": "2021-09-05T10:16:34.881479Z",
     "iopub.status.busy": "2021-09-05T10:16:34.881149Z",
     "iopub.status.idle": "2021-09-05T10:16:34.88934Z",
     "shell.execute_reply": "2021-09-05T10:16:34.888269Z",
     "shell.execute_reply.started": "2021-09-05T10:16:34.88145Z"
    }
   },
   "outputs": [],
   "source": [
    "vocab_dict[\"[UNK]\"] = len(vocab_dict)\n",
    "vocab_dict[\"[PAD]\"] = len(vocab_dict)\n",
    "len(vocab_dict)"
   ]
  },
  {
   "cell_type": "code",
   "execution_count": null,
   "metadata": {
    "execution": {
     "iopub.execute_input": "2021-09-05T10:16:46.976632Z",
     "iopub.status.busy": "2021-09-05T10:16:46.976273Z",
     "iopub.status.idle": "2021-09-05T10:16:46.98157Z",
     "shell.execute_reply": "2021-09-05T10:16:46.980615Z",
     "shell.execute_reply.started": "2021-09-05T10:16:46.976601Z"
    }
   },
   "outputs": [],
   "source": [
    "import json\n",
    "with open('vocab.json', 'w') as vocab_file:\n",
    "    json.dump(vocab_dict, vocab_file)"
   ]
  },
  {
   "cell_type": "code",
   "execution_count": null,
   "metadata": {},
   "outputs": [],
   "source": [
    "tokenizer = Wav2Vec2CTCTokenizer(\"./vocab.json\", unk_token=\"[UNK]\", pad_token=\"[PAD]\", word_delimiter_token=\"|\")"
   ]
  },
  {
   "cell_type": "markdown",
   "metadata": {},
   "source": [
    "## 2.2. Extraction des features"
   ]
  },
  {
   "cell_type": "code",
   "execution_count": null,
   "metadata": {
    "execution": {
     "iopub.execute_input": "2021-09-05T10:16:59.397365Z",
     "iopub.status.busy": "2021-09-05T10:16:59.397048Z",
     "iopub.status.idle": "2021-09-05T10:16:59.404846Z",
     "shell.execute_reply": "2021-09-05T10:16:59.404Z",
     "shell.execute_reply.started": "2021-09-05T10:16:59.397336Z"
    }
   },
   "outputs": [],
   "source": [
    "feature_extractor = Wav2Vec2FeatureExtractor(feature_size=1, sampling_rate=16000, padding_value=0.0, do_normalize=True, return_attention_mask=True)\n",
    "processor = Wav2Vec2Processor(feature_extractor=feature_extractor, tokenizer=tokenizer)"
   ]
  },
  {
   "cell_type": "markdown",
   "metadata": {},
   "source": [
    "## 2.3. Prétraitement"
   ]
  },
  {
   "cell_type": "code",
   "execution_count": null,
   "metadata": {
    "execution": {
     "iopub.execute_input": "2021-09-05T10:17:26.501738Z",
     "iopub.status.busy": "2021-09-05T10:17:26.501348Z",
     "iopub.status.idle": "2021-09-05T10:17:26.568912Z",
     "shell.execute_reply": "2021-09-05T10:17:26.567576Z",
     "shell.execute_reply.started": "2021-09-05T10:17:26.501705Z"
    }
   },
   "outputs": [],
   "source": [
    "import torchaudio\n",
    "def speech_file_to_array_fn(batch):\n",
    "    speech_array, sampling_rate = torchaudio.load(\"dvoice_augmented/audios/\" + batch[\"path\"])\n",
    "    batch[\"speech\"] = speech_array[0].numpy()\n",
    "    batch[\"sampling_rate\"] = sampling_rate\n",
    "    batch[\"target_text\"] = batch[\"transcript\"]\n",
    "    return batch"
   ]
  },
  {
   "cell_type": "code",
   "execution_count": null,
   "metadata": {
    "execution": {
     "iopub.execute_input": "2021-09-05T10:17:41.54658Z",
     "iopub.status.busy": "2021-09-05T10:17:41.546217Z",
     "iopub.status.idle": "2021-09-05T10:22:12.158444Z",
     "shell.execute_reply": "2021-09-05T10:22:12.157575Z",
     "shell.execute_reply.started": "2021-09-05T10:17:41.546546Z"
    }
   },
   "outputs": [],
   "source": [
    "dvoice_train = dvoice_train.map(speech_file_to_array_fn, remove_columns=dvoice_train.column_names)\n",
    "dvoice_test = dvoice_test.map(speech_file_to_array_fn, remove_columns=dvoice_test.column_names)"
   ]
  },
  {
   "cell_type": "code",
   "execution_count": null,
   "metadata": {
    "execution": {
     "iopub.execute_input": "2021-09-05T10:22:12.160203Z",
     "iopub.status.busy": "2021-09-05T10:22:12.159877Z",
     "iopub.status.idle": "2021-09-05T10:22:12.166727Z",
     "shell.execute_reply": "2021-09-05T10:22:12.165737Z",
     "shell.execute_reply.started": "2021-09-05T10:22:12.160166Z"
    }
   },
   "outputs": [],
   "source": [
    "def resample(batch):\n",
    "    batch[\"speech\"] = librosa.resample(np.asarray(batch[\"speech\"]), batch['sampling_rate'], 16_000)\n",
    "    batch[\"sampling_rate\"] = 16_000\n",
    "    return batch"
   ]
  },
  {
   "cell_type": "code",
   "execution_count": null,
   "metadata": {
    "execution": {
     "iopub.execute_input": "2021-09-05T10:22:12.169664Z",
     "iopub.status.busy": "2021-09-05T10:22:12.169068Z",
     "iopub.status.idle": "2021-09-05T11:02:30.111663Z",
     "shell.execute_reply": "2021-09-05T11:02:30.110317Z",
     "shell.execute_reply.started": "2021-09-05T10:22:12.169622Z"
    }
   },
   "outputs": [],
   "source": [
    "dvoice_train = dvoice_train.map(resample, num_proc=4)\n",
    "dvoice_test = dvoice_test.map(resample, num_proc=4)"
   ]
  },
  {
   "cell_type": "code",
   "execution_count": null,
   "metadata": {
    "execution": {
     "iopub.execute_input": "2021-09-05T11:02:30.116391Z",
     "iopub.status.busy": "2021-09-05T11:02:30.116071Z",
     "iopub.status.idle": "2021-09-05T11:02:32.51931Z",
     "shell.execute_reply": "2021-09-05T11:02:32.518512Z",
     "shell.execute_reply.started": "2021-09-05T11:02:30.11636Z"
    }
   },
   "outputs": [],
   "source": [
    "rand_int = random.randint(0, len(dvoice_train)-1)\n",
    "print(\"Target text:\", dvoice_train[rand_int][\"target_text\"])\n",
    "print(\"Input array shape:\", np.asarray(dvoice_train[rand_int][\"speech\"]).shape)\n",
    "print(\"Sampling rate:\", dvoice_train[rand_int][\"sampling_rate\"])\n",
    "\n",
    "ipd.Audio(data=np.asarray(dvoice_train[rand_int][\"speech\"]), autoplay=True, rate=16000)"
   ]
  },
  {
   "cell_type": "code",
   "execution_count": null,
   "metadata": {
    "execution": {
     "iopub.execute_input": "2021-09-05T11:02:32.521021Z",
     "iopub.status.busy": "2021-09-05T11:02:32.520654Z",
     "iopub.status.idle": "2021-09-05T11:02:32.527953Z",
     "shell.execute_reply": "2021-09-05T11:02:32.526967Z",
     "shell.execute_reply.started": "2021-09-05T11:02:32.520984Z"
    }
   },
   "outputs": [],
   "source": [
    "def prepare_dataset(batch):\n",
    "    assert (\n",
    "        len(set(batch[\"sampling_rate\"])) == 1\n",
    "    ), f\"Make sure all inputs have the same sampling rate of {processor.feature_extractor.sampling_rate}.\"\n",
    "\n",
    "    batch[\"input_values\"] = processor(batch[\"speech\"], sampling_rate=batch[\"sampling_rate\"][0]).input_values\n",
    "    \n",
    "    with processor.as_target_processor():\n",
    "        batch[\"labels\"] = processor(batch[\"target_text\"]).input_ids\n",
    "    return batch"
   ]
  },
  {
   "cell_type": "code",
   "execution_count": null,
   "metadata": {
    "execution": {
     "iopub.execute_input": "2021-09-05T11:02:32.529798Z",
     "iopub.status.busy": "2021-09-05T11:02:32.529388Z",
     "iopub.status.idle": "2021-09-05T11:10:55.485921Z",
     "shell.execute_reply": "2021-09-05T11:10:55.484843Z",
     "shell.execute_reply.started": "2021-09-05T11:02:32.529757Z"
    }
   },
   "outputs": [],
   "source": [
    "dvoice_train = dvoice_train.map(prepare_dataset, remove_columns=dvoice_train.column_names, batch_size=8, num_proc=4, batched=True)\n",
    "dvoice_test = dvoice_test.map(prepare_dataset, remove_columns=dvoice_test.column_names, batch_size=8, num_proc=4, batched=True)"
   ]
  },
  {
   "cell_type": "markdown",
   "metadata": {},
   "source": [
    "# 3. Entraînement"
   ]
  },
  {
   "cell_type": "markdown",
   "metadata": {},
   "source": [
    "## 3.1. Configurations"
   ]
  },
  {
   "cell_type": "code",
   "execution_count": null,
   "metadata": {
    "execution": {
     "iopub.execute_input": "2021-09-05T11:10:55.489227Z",
     "iopub.status.busy": "2021-09-05T11:10:55.488877Z",
     "iopub.status.idle": "2021-09-05T11:10:55.501413Z",
     "shell.execute_reply": "2021-09-05T11:10:55.500494Z",
     "shell.execute_reply.started": "2021-09-05T11:10:55.489188Z"
    }
   },
   "outputs": [],
   "source": [
    "import torch\n",
    "\n",
    "from dataclasses import dataclass, field\n",
    "from typing import Any, Dict, List, Optional, Union\n",
    "\n",
    "@dataclass\n",
    "class DataCollatorCTCWithPadding:\n",
    "\n",
    "    processor: Wav2Vec2Processor\n",
    "    padding: Union[bool, str] = True\n",
    "    max_length: Optional[int] = None\n",
    "    max_length_labels: Optional[int] = None\n",
    "    pad_to_multiple_of: Optional[int] = None\n",
    "    pad_to_multiple_of_labels: Optional[int] = None\n",
    "\n",
    "    def __call__(self, features: List[Dict[str, Union[List[int], torch.Tensor]]]) -> Dict[str, torch.Tensor]:\n",
    "        input_features = [{\"input_values\": feature[\"input_values\"]} for feature in features]\n",
    "        label_features = [{\"input_ids\": feature[\"labels\"]} for feature in features]\n",
    "\n",
    "        batch = self.processor.pad(\n",
    "            input_features,\n",
    "            padding=self.padding,\n",
    "            max_length=self.max_length,\n",
    "            pad_to_multiple_of=self.pad_to_multiple_of,\n",
    "            return_tensors=\"pt\",\n",
    "        )\n",
    "        with self.processor.as_target_processor():\n",
    "            labels_batch = self.processor.pad(\n",
    "                label_features,\n",
    "                padding=self.padding,\n",
    "                max_length=self.max_length_labels,\n",
    "                pad_to_multiple_of=self.pad_to_multiple_of_labels,\n",
    "                return_tensors=\"pt\",\n",
    "            )\n",
    "        labels = labels_batch[\"input_ids\"].masked_fill(labels_batch.attention_mask.ne(1), -100)\n",
    "\n",
    "        batch[\"labels\"] = labels\n",
    "\n",
    "        return batch"
   ]
  },
  {
   "cell_type": "code",
   "execution_count": null,
   "metadata": {
    "execution": {
     "iopub.execute_input": "2021-09-05T11:10:55.505469Z",
     "iopub.status.busy": "2021-09-05T11:10:55.504973Z",
     "iopub.status.idle": "2021-09-05T11:10:55.551171Z",
     "shell.execute_reply": "2021-09-05T11:10:55.550339Z",
     "shell.execute_reply.started": "2021-09-05T11:10:55.505434Z"
    }
   },
   "outputs": [],
   "source": [
    "data_collator = DataCollatorCTCWithPadding(processor=processor, padding=True)"
   ]
  },
  {
   "cell_type": "code",
   "execution_count": null,
   "metadata": {
    "execution": {
     "iopub.execute_input": "2021-09-05T11:10:55.553122Z",
     "iopub.status.busy": "2021-09-05T11:10:55.552845Z",
     "iopub.status.idle": "2021-09-05T11:10:56.74119Z",
     "shell.execute_reply": "2021-09-05T11:10:56.739871Z",
     "shell.execute_reply.started": "2021-09-05T11:10:55.553089Z"
    }
   },
   "outputs": [],
   "source": [
    "wer_metric = load_metric(\"wer\", cache_dir=\"./\")\n",
    "# cer_metric = load_metric(\"cer\", cache_dir=\"./\")"
   ]
  },
  {
   "cell_type": "code",
   "execution_count": null,
   "metadata": {
    "execution": {
     "iopub.execute_input": "2021-09-05T11:10:56.746164Z",
     "iopub.status.busy": "2021-09-05T11:10:56.74579Z",
     "iopub.status.idle": "2021-09-05T11:10:56.758364Z",
     "shell.execute_reply": "2021-09-05T11:10:56.757346Z",
     "shell.execute_reply.started": "2021-09-05T11:10:56.746128Z"
    }
   },
   "outputs": [],
   "source": [
    "def compute_metrics(pred):\n",
    "    pred_logits = pred.predictions\n",
    "    pred_ids = np.argmax(pred_logits, axis=-1)\n",
    "\n",
    "    pred.label_ids[pred.label_ids == -100] = processor.tokenizer.pad_token_id\n",
    "\n",
    "    pred_str = processor.batch_decode(pred_ids)\n",
    "    label_str = processor.batch_decode(pred.label_ids, group_tokens=False)\n",
    "\n",
    "    wer = wer_metric.compute(predictions=pred_str, references=label_str)\n",
    "#     cer = cer_metric.compute(predictions=pred_str, references=label_str)\n",
    "    \n",
    "    return {\"wer\": wer}\n",
    "#     return {\"cer\" : cer}"
   ]
  },
  {
   "cell_type": "code",
   "execution_count": null,
   "metadata": {
    "execution": {
     "iopub.execute_input": "2021-09-05T11:10:56.766066Z",
     "iopub.status.busy": "2021-09-05T11:10:56.763603Z",
     "iopub.status.idle": "2021-09-05T11:11:40.146721Z",
     "shell.execute_reply": "2021-09-05T11:11:40.145841Z",
     "shell.execute_reply.started": "2021-09-05T11:10:56.766012Z"
    }
   },
   "outputs": [],
   "source": [
    "model = Wav2Vec2ForCTC.from_pretrained(\n",
    "    \"facebook/wav2vec2-large-xlsr-53\", \n",
    "    attention_dropout=0.1,\n",
    "    hidden_dropout=0.1,\n",
    "    feat_proj_dropout=0.0,\n",
    "    mask_time_prob=0.05,\n",
    "    layerdrop=0.1,\n",
    "    gradient_checkpointing=True, \n",
    "    ctc_loss_reduction=\"mean\", \n",
    "    pad_token_id=processor.tokenizer.pad_token_id,\n",
    "    vocab_size=len(processor.tokenizer)\n",
    ")"
   ]
  },
  {
   "cell_type": "code",
   "execution_count": null,
   "metadata": {
    "execution": {
     "iopub.execute_input": "2021-09-05T11:11:40.14847Z",
     "iopub.status.busy": "2021-09-05T11:11:40.148079Z",
     "iopub.status.idle": "2021-09-05T11:11:40.153606Z",
     "shell.execute_reply": "2021-09-05T11:11:40.152507Z",
     "shell.execute_reply.started": "2021-09-05T11:11:40.148425Z"
    }
   },
   "outputs": [],
   "source": [
    "model.freeze_feature_extractor()"
   ]
  },
  {
   "cell_type": "code",
   "execution_count": null,
   "metadata": {
    "execution": {
     "iopub.execute_input": "2021-09-05T11:11:40.155263Z",
     "iopub.status.busy": "2021-09-05T11:11:40.15488Z",
     "iopub.status.idle": "2021-09-05T11:11:40.583955Z",
     "shell.execute_reply": "2021-09-05T11:11:40.583061Z",
     "shell.execute_reply.started": "2021-09-05T11:11:40.155226Z"
    }
   },
   "outputs": [],
   "source": [
    "training_args = TrainingArguments(\n",
    "  output_dir=\"./dvoice-v1.0\",\n",
    "  group_by_length=True,\n",
    "  per_device_train_batch_size=16,\n",
    "  gradient_accumulation_steps=2,\n",
    "  evaluation_strategy=\"steps\",\n",
    "  num_train_epochs=30,\n",
    "  fp16=True,\n",
    "  save_steps=400,\n",
    "  eval_steps=400,\n",
    "  logging_steps=400,\n",
    "  learning_rate=3e-4,\n",
    "  warmup_steps=500,\n",
    "  save_total_limit=2,\n",
    ")"
   ]
  },
  {
   "cell_type": "code",
   "execution_count": null,
   "metadata": {
    "execution": {
     "iopub.execute_input": "2021-09-05T11:11:40.585821Z",
     "iopub.status.busy": "2021-09-05T11:11:40.585439Z",
     "iopub.status.idle": "2021-09-05T11:11:48.184386Z",
     "shell.execute_reply": "2021-09-05T11:11:48.183536Z",
     "shell.execute_reply.started": "2021-09-05T11:11:40.585786Z"
    }
   },
   "outputs": [],
   "source": [
    "from transformers import Trainer\n",
    "\n",
    "trainer = Trainer(\n",
    "    model=model,\n",
    "    data_collator=data_collator,\n",
    "    args=training_args,\n",
    "    compute_metrics=compute_metrics,\n",
    "    train_dataset=dvoice_train,\n",
    "    eval_dataset=dvoice_test,\n",
    "    tokenizer=processor.feature_extractor,\n",
    ")"
   ]
  },
  {
   "cell_type": "markdown",
   "metadata": {},
   "source": [
    "## 3.2. Entraînement du modèle"
   ]
  },
  {
   "cell_type": "code",
   "execution_count": null,
   "metadata": {
    "execution": {
     "iopub.execute_input": "2021-09-05T11:11:48.192632Z",
     "iopub.status.busy": "2021-09-05T11:11:48.192138Z"
    }
   },
   "outputs": [],
   "source": [
    "trainer.train()"
   ]
  }
 ],
 "metadata": {
  "kernelspec": {
   "display_name": "Python 3",
   "language": "python",
   "name": "python3"
  },
  "language_info": {
   "codemirror_mode": {
    "name": "ipython",
    "version": 3
   },
   "file_extension": ".py",
   "mimetype": "text/x-python",
   "name": "python",
   "nbconvert_exporter": "python",
   "pygments_lexer": "ipython3",
   "version": "3.8.10"
  }
 },
 "nbformat": 4,
 "nbformat_minor": 4
}
